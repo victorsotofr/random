{
 "cells": [
  {
   "cell_type": "code",
   "execution_count": null,
   "id": "d95fd513",
   "metadata": {},
   "outputs": [],
   "source": [
    "import pandas as pd\n",
    "import openai\n",
    "import time"
   ]
  },
  {
   "cell_type": "code",
   "execution_count": null,
   "id": "7d2022d3",
   "metadata": {},
   "outputs": [],
   "source": [
    "OPENAI_API_KEY = \"sk-proj...\"\n",
    "\n",
    "client = openai.Client(api_key=OPENAI_API_KEY)"
   ]
  },
  {
   "cell_type": "code",
   "execution_count": null,
   "id": "5c405ccf",
   "metadata": {},
   "outputs": [],
   "source": [
    "def find_domain_openai(company_name):\n",
    "    prompt = f\"Find the official domain name of the company '{company_name}'.\"\n",
    "    try:\n",
    "        response = client.chat.completions.create(\n",
    "            model=\"gpt-4o\",\n",
    "            messages=[\n",
    "                {\"role\": \"system\", \"content\": (\n",
    "                    \"You are a helpful assistant. Only reply with the domain name of the company, \"\n",
    "                    \"without any sentence, formatting, or explanation. Example: keplercheuvreux.com\"\n",
    "                    )\n",
    "                },\n",
    "                {\"role\": \"user\", \"content\": prompt}\n",
    "            ],\n",
    "            temperature=0\n",
    "        )\n",
    "        reply = response.choices[0].message.content.strip()\n",
    "        \n",
    "        for word in reply.split():\n",
    "            if word.startswith(\"http\"):\n",
    "                return word.strip().rstrip(\".\")\n",
    "        return reply\n",
    "\n",
    "    except Exception as e:\n",
    "        print(f\"Error for {company_name}: {e}\")\n",
    "        return None"
   ]
  },
  {
   "cell_type": "code",
   "execution_count": null,
   "id": "a196ad18",
   "metadata": {},
   "outputs": [],
   "source": [
    "def enrich_domains_with_openai(input_csv, output_csv):\n",
    "    df = pd.read_csv(input_csv)\n",
    "    \n",
    "    for idx, row in df.iterrows():\n",
    "        if pd.isna(row[\"Domains\"]) and pd.notna(row[\"Record\"]):\n",
    "            company_name = row[\"Record\"]\n",
    "            print(f\"→ Looking up: {company_name}\")\n",
    "            domain = find_domain_openai(company_name)\n",
    "            if domain:\n",
    "                df.at[idx, \"Domains\"] = domain\n",
    "                print(f\"OK — {company_name} → {domain}\")\n",
    "            else:\n",
    "                print(f\"✕ Could not find domain for {company_name}\")\n",
    "            time.sleep(1)  # Rate limiting\n",
    "    \n",
    "    df.to_csv(output_csv, index=False)\n",
    "    print(f\"\\nEnriched CSV saved to {output_csv}\")"
   ]
  },
  {
   "cell_type": "code",
   "execution_count": null,
   "id": "2f3ba8be",
   "metadata": {},
   "outputs": [],
   "source": [
    "input_csv = \"~/Downloads/sales_contacted.csv\"\n",
    "\n",
    "enrich_domains_with_openai(input_csv, \"~/Downloads/enriched_companies.csv\")"
   ]
  },
  {
   "cell_type": "code",
   "execution_count": null,
   "id": "6c997b17",
   "metadata": {},
   "outputs": [],
   "source": []
  }
 ],
 "metadata": {
  "kernelspec": {
   "display_name": "cube",
   "language": "python",
   "name": "python3"
  },
  "language_info": {
   "codemirror_mode": {
    "name": "ipython",
    "version": 3
   },
   "file_extension": ".py",
   "mimetype": "text/x-python",
   "name": "python",
   "nbconvert_exporter": "python",
   "pygments_lexer": "ipython3",
   "version": "3.13.2"
  }
 },
 "nbformat": 4,
 "nbformat_minor": 5
}
