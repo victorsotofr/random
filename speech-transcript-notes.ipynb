{
 "cells": [
  {
   "cell_type": "markdown",
   "id": "a6484d67",
   "metadata": {},
   "source": [
    "## __Speech → Transcript → Call notes__\n",
    "\n",
    "This Jupyter notebook aims at transforming my meetings' recordings (audio) into calls notes. The steps are: \n",
    "\n",
    "1. get the transcript from the audio using [Whisper](https://openai.com/index/whisper/) (via [GroqCloud](https://console.groq.com/docs/speech-to-text)) \n",
    "\n",
    "2. create a note call from the transcript using [OpenAI](http://openai.com/)"
   ]
  },
  {
   "cell_type": "code",
   "execution_count": null,
   "id": "d5cc44ef",
   "metadata": {},
   "outputs": [],
   "source": [
    "import os\n",
    "\n",
    "os.environ[\"GROQ_API_KEY\"] = \"gsk_...\"\n",
    "os.environ[\"OPENAI_API_KEY\"] = \"sk-...\""
   ]
  },
  {
   "cell_type": "code",
   "execution_count": null,
   "id": "2d955723",
   "metadata": {},
   "outputs": [],
   "source": [
    "# SPEECH -> TRANSCRIPTION\n",
    "from pathlib import Path\n",
    "from groq import Groq\n",
    "\n",
    "client = Groq(api_key=os.getenv(\"GROQ_API_KEY\"))\n",
    "DOWNLOADS = Path.home() / \"Downloads\"\n",
    "\n",
    "for audio_path in DOWNLOADS.glob(\"*.m4a\"):\n",
    "    print(f\"\\n→ Processing {audio_path.name}...\")\n",
    "    with open(audio_path, \"rb\") as f:\n",
    "        data = f.read()         \n",
    "        transcription = client.audio.transcriptions.create(\n",
    "            file=(audio_path.name, data),\n",
    "            model=\"whisper-large-v3\",\n",
    "            response_format=\"verbose_json\",\n",
    "        )\n",
    "    print(f\"The Transcript for {audio_path.name} is :\\n{transcription.text}\")\n",
    "\n",
    "    out_path = audio_path.with_suffix(\".txt\")\n",
    "    out_path.write_text(transcription.text.strip(), encoding=\"utf-8\")\n",
    "    print(f\"Transcript saved to {out_path}\")\n"
   ]
  },
  {
   "cell_type": "code",
   "execution_count": null,
   "id": "256b6551",
   "metadata": {},
   "outputs": [],
   "source": [
    "# TRANSCRIPTION -> NOTES\n",
    "from openai import OpenAI\n",
    "\n",
    "client = OpenAI(api_key=os.getenv(\"OPENAI_API_KEY\"))\n",
    "\n",
    "for transcript_path in DOWNLOADS.glob(\"*.txt\"):\n",
    "    print(f\"\\n→ Processing {transcript_path.name}...\")\n",
    "    \n",
    "    transcript = transcript_path.read_text(encoding=\"utf-8\")\n",
    "\n",
    "    response = client.chat.completions.create(\n",
    "        model=\"gpt-3.5-turbo\",\n",
    "        messages=[\n",
    "            {\"role\": \"user\", \n",
    "            \"content\": (\n",
    "                \"You are an assistant that converts meeting transcripts into concise, \"\n",
    "                \"well-structured call notes. Include key points, decisions, and action items.\"\n",
    "            )\n",
    "            },\n",
    "            {\"role\": \"user\",\n",
    "            \"content\": f\"Here is the transcript of a meeting:\\n\\n{transcript}\\n\\n\"\n",
    "                           \"Please summarize it into clear call notes.\"\n",
    "            }\n",
    "\n",
    "        ],\n",
    "        temperature=0.2,\n",
    "        max_tokens=800,\n",
    "    )\n",
    "    \n",
    "    summary = response.choices[0].message.content.strip()\n",
    "    out_path = transcript_path.with_suffix(\".summary.txt\")\n",
    "    out_path.write_text(summary, encoding=\"utf-8\")\n",
    "\n",
    "    print(f\"Summared notes saved to {out_path.name}\")"
   ]
  }
 ],
 "metadata": {
  "kernelspec": {
   "display_name": "uiform",
   "language": "python",
   "name": "python3"
  },
  "language_info": {
   "codemirror_mode": {
    "name": "ipython",
    "version": 3
   },
   "file_extension": ".py",
   "mimetype": "text/x-python",
   "name": "python",
   "nbconvert_exporter": "python",
   "pygments_lexer": "ipython3",
   "version": "3.11.11"
  }
 },
 "nbformat": 4,
 "nbformat_minor": 5
}
